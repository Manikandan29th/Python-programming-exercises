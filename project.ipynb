{
  "nbformat": 4,
  "nbformat_minor": 0,
  "metadata": {
    "colab": {
      "name": "project",
      "provenance": [],
      "authorship_tag": "ABX9TyPgZyU7N9IprU8bkUA1h+lP",
      "include_colab_link": true
    },
    "kernelspec": {
      "name": "python3",
      "display_name": "Python 3"
    }
  },
  "cells": [
    {
      "cell_type": "markdown",
      "metadata": {
        "id": "view-in-github",
        "colab_type": "text"
      },
      "source": [
        "<a href=\"https://colab.research.google.com/github/Manikandan29th/Python-programming-exercises/blob/master/project.ipynb\" target=\"_parent\"><img src=\"https://colab.research.google.com/assets/colab-badge.svg\" alt=\"Open In Colab\"/></a>"
      ]
    },
    {
      "cell_type": "code",
      "metadata": {
        "colab": {
          "base_uri": "https://localhost:8080/"
        },
        "id": "VPHJFQEzXWYs",
        "outputId": "87f5a135-2b30-42fa-9a24-ca339eac6a1a"
      },
      "source": [
        "!pip install fasttext"
      ],
      "execution_count": 1,
      "outputs": [
        {
          "output_type": "stream",
          "text": [
            "Collecting fasttext\n",
            "\u001b[?25l  Downloading https://files.pythonhosted.org/packages/f8/85/e2b368ab6d3528827b147fdb814f8189acc981a4bc2f99ab894650e05c40/fasttext-0.9.2.tar.gz (68kB)\n",
            "\r\u001b[K     |████▊                           | 10kB 13.6MB/s eta 0:00:01\r\u001b[K     |█████████▌                      | 20kB 13.1MB/s eta 0:00:01\r\u001b[K     |██████████████▎                 | 30kB 10.0MB/s eta 0:00:01\r\u001b[K     |███████████████████             | 40kB 8.8MB/s eta 0:00:01\r\u001b[K     |███████████████████████▉        | 51kB 5.2MB/s eta 0:00:01\r\u001b[K     |████████████████████████████▋   | 61kB 5.6MB/s eta 0:00:01\r\u001b[K     |████████████████████████████████| 71kB 3.2MB/s \n",
            "\u001b[?25hRequirement already satisfied: pybind11>=2.2 in /usr/local/lib/python3.7/dist-packages (from fasttext) (2.6.2)\n",
            "Requirement already satisfied: setuptools>=0.7.0 in /usr/local/lib/python3.7/dist-packages (from fasttext) (54.0.0)\n",
            "Requirement already satisfied: numpy in /usr/local/lib/python3.7/dist-packages (from fasttext) (1.19.5)\n",
            "Building wheels for collected packages: fasttext\n",
            "  Building wheel for fasttext (setup.py) ... \u001b[?25l\u001b[?25hdone\n",
            "  Created wheel for fasttext: filename=fasttext-0.9.2-cp37-cp37m-linux_x86_64.whl size=3093940 sha256=7bf354c30401db3a577075c26c3c151270003a2310e18dca77425ab0e85a0cc4\n",
            "  Stored in directory: /root/.cache/pip/wheels/98/ba/7f/b154944a1cf5a8cee91c154b75231136cc3a3321ab0e30f592\n",
            "Successfully built fasttext\n",
            "Installing collected packages: fasttext\n",
            "Successfully installed fasttext-0.9.2\n"
          ],
          "name": "stdout"
        }
      ]
    },
    {
      "cell_type": "code",
      "metadata": {
        "id": "yVe59yCDXeVk"
      },
      "source": [
        "import fasttext"
      ],
      "execution_count": 6,
      "outputs": []
    },
    {
      "cell_type": "code",
      "metadata": {
        "id": "OCRHqAB-X3T1"
      },
      "source": [
        "model = fasttext.train_supervised(input=\"cooking.train\")\r\n",
        "model.save_model(\"model_cooking.bin\")"
      ],
      "execution_count": 7,
      "outputs": []
    },
    {
      "cell_type": "code",
      "metadata": {
        "colab": {
          "base_uri": "https://localhost:8080/"
        },
        "id": "YVsgZ3TbYlcA",
        "outputId": "9e139df7-40d2-445c-e7fe-465c8771a1fc"
      },
      "source": [
        "# predicting correctly\r\n",
        "model.predict(\"Which baking dish is best to bake a banana cake ?\") "
      ],
      "execution_count": 8,
      "outputs": [
        {
          "output_type": "execute_result",
          "data": {
            "text/plain": [
              "(('__label__baking',), array([0.13629781]))"
            ]
          },
          "metadata": {
            "tags": []
          },
          "execution_count": 8
        }
      ]
    },
    {
      "cell_type": "code",
      "metadata": {
        "colab": {
          "base_uri": "https://localhost:8080/"
        },
        "id": "sjDTzXosYzcN",
        "outputId": "ff8b1a5e-8b3c-46ff-9d5e-badd2949c0a1"
      },
      "source": [
        "# predicting wrongly\r\n",
        "model.predict(\"Why not put knives in the dishwasher?\")"
      ],
      "execution_count": 9,
      "outputs": [
        {
          "output_type": "execute_result",
          "data": {
            "text/plain": [
              "(('__label__food-safety',), array([0.10603701]))"
            ]
          },
          "metadata": {
            "tags": []
          },
          "execution_count": 9
        }
      ]
    },
    {
      "cell_type": "code",
      "metadata": {
        "colab": {
          "base_uri": "https://localhost:8080/"
        },
        "id": "BZaZUsxXY7bz",
        "outputId": "d24c6a78-85f2-47a3-c44f-65aafdcc72fd"
      },
      "source": [
        "model.test(\"cooking.valid\")"
      ],
      "execution_count": 11,
      "outputs": [
        {
          "output_type": "execute_result",
          "data": {
            "text/plain": [
              "(3000, 0.16433333333333333, 0.07106818509442121)"
            ]
          },
          "metadata": {
            "tags": []
          },
          "execution_count": 11
        }
      ]
    },
    {
      "cell_type": "code",
      "metadata": {
        "colab": {
          "base_uri": "https://localhost:8080/"
        },
        "id": "huWd-OZWZf4A",
        "outputId": "2e0908a2-f5e6-4883-95b2-cd880ddf0e5a"
      },
      "source": [
        "model = fasttext.train_supervised(input=\"cooking.train\", epoch=50)\r\n",
        "model.test(\"cooking.valid\")"
      ],
      "execution_count": 16,
      "outputs": [
        {
          "output_type": "execute_result",
          "data": {
            "text/plain": [
              "(3000, 0.5656666666666667, 0.2446302436211619)"
            ]
          },
          "metadata": {
            "tags": []
          },
          "execution_count": 16
        }
      ]
    },
    {
      "cell_type": "code",
      "metadata": {
        "colab": {
          "base_uri": "https://localhost:8080/"
        },
        "id": "scg4HOZjZk7s",
        "outputId": "e414ac43-b703-487a-d785-0278e90ceb8a"
      },
      "source": [
        "model = fasttext.train_supervised(input=\"cooking.train\", lr=1.0)\r\n",
        "model.test(\"cooking.valid\")"
      ],
      "execution_count": 14,
      "outputs": [
        {
          "output_type": "execute_result",
          "data": {
            "text/plain": [
              "(3000, 0.5693333333333334, 0.2462159434914228)"
            ]
          },
          "metadata": {
            "tags": []
          },
          "execution_count": 14
        }
      ]
    },
    {
      "cell_type": "code",
      "metadata": {
        "colab": {
          "base_uri": "https://localhost:8080/"
        },
        "id": "LHnP_tnAasCo",
        "outputId": "d29d4126-c407-4375-904f-03367a2b1ae4"
      },
      "source": [
        "model = fasttext.train_supervised(input=\"cooking.train\", lr=1.0, epoch=50)\r\n",
        "model.test(\"cooking.valid\")"
      ],
      "execution_count": 19,
      "outputs": [
        {
          "output_type": "execute_result",
          "data": {
            "text/plain": [
              "(3000, 0.5776666666666667, 0.2498198068329249)"
            ]
          },
          "metadata": {
            "tags": []
          },
          "execution_count": 19
        }
      ]
    },
    {
      "cell_type": "code",
      "metadata": {
        "colab": {
          "base_uri": "https://localhost:8080/"
        },
        "id": "cWmsD6hfblTq",
        "outputId": "e48e9979-b90b-418c-8c0d-4ff4c729c1f3"
      },
      "source": [
        "model = fasttext.train_supervised(input=\"cooking.train\", lr=1.0, epoch=50, wordNgrams=2)\r\n",
        "model.test(\"cooking.valid\")"
      ],
      "execution_count": 20,
      "outputs": [
        {
          "output_type": "execute_result",
          "data": {
            "text/plain": [
              "(3000, 0.628, 0.27158714141559753)"
            ]
          },
          "metadata": {
            "tags": []
          },
          "execution_count": 20
        }
      ]
    },
    {
      "cell_type": "code",
      "metadata": {
        "colab": {
          "base_uri": "https://localhost:8080/"
        },
        "id": "K8aPBMbCb9fh",
        "outputId": "12303d5f-bfb8-4340-a366-78cdec2cd4d5"
      },
      "source": [
        "model = fasttext.train_supervised(input=\"cooking.train\", lr=0.5, epoch=50, wordNgrams=2, bucket=200000, dim=50, loss='ova')\r\n",
        "model.test(\"cooking.valid\")"
      ],
      "execution_count": 21,
      "outputs": [
        {
          "output_type": "execute_result",
          "data": {
            "text/plain": [
              "(3000, 0.6066666666666667, 0.2623612512613522)"
            ]
          },
          "metadata": {
            "tags": []
          },
          "execution_count": 21
        }
      ]
    },
    {
      "cell_type": "code",
      "metadata": {
        "colab": {
          "base_uri": "https://localhost:8080/"
        },
        "id": "ClvxJ-Avc517",
        "outputId": "b2c0b610-a649-4c3d-d3f1-319df649347d"
      },
      "source": [
        "model.predict(\"Which baking dish is best to bake a banana bread ?\", k=-1, threshold=0.5)"
      ],
      "execution_count": 22,
      "outputs": [
        {
          "output_type": "execute_result",
          "data": {
            "text/plain": [
              "(('__label__baking',\n",
              "  '__label__equipment',\n",
              "  '__label__bread',\n",
              "  '__label__bananas'),\n",
              " array([1.00001001, 0.9965266 , 0.99266416, 0.96790934]))"
            ]
          },
          "metadata": {
            "tags": []
          },
          "execution_count": 22
        }
      ]
    },
    {
      "cell_type": "code",
      "metadata": {
        "colab": {
          "base_uri": "https://localhost:8080/"
        },
        "id": "E_E1coiCdjbe",
        "outputId": "36602c66-e997-4f4d-b153-cc74b92f2ead"
      },
      "source": [
        "model.predict(\"Why not put knives in the dishwasher?\", k=-1, threshold=0.5)"
      ],
      "execution_count": 23,
      "outputs": [
        {
          "output_type": "execute_result",
          "data": {
            "text/plain": [
              "((), array([], dtype=float64))"
            ]
          },
          "metadata": {
            "tags": []
          },
          "execution_count": 23
        }
      ]
    },
    {
      "cell_type": "code",
      "metadata": {
        "id": "GlJgnb8neVpb"
      },
      "source": [
        ""
      ],
      "execution_count": null,
      "outputs": []
    }
  ]
}